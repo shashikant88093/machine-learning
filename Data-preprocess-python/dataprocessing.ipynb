{
 "cells": [
  {
   "cell_type": "code",
   "execution_count": 30,
   "metadata": {},
   "outputs": [],
   "source": [
    "import numpy as np \n",
    "import matplotlib.pyplot as plt\n",
    "import pandas as pd\n",
    "from sklearn.impute import SimpleImputer"
   ]
  },
  {
   "cell_type": "markdown",
   "metadata": {},
   "source": [
    "Taking care of Missing Data"
   ]
  },
  {
   "cell_type": "code",
   "execution_count": 31,
   "metadata": {},
   "outputs": [
    {
     "name": "stdout",
     "output_type": "stream",
     "text": [
      "['High' 'Medium' 'Low' 'High' 'Medium' 'High' 'Low' 'Medium' 'Low' 'High'] y-data\n",
      "[['Male' 85.0 15.0 78.0 1]\n",
      " ['Female' 90.0 20.0 85.0 2]\n",
      " ['Male' 78.0 10.0 65.0 0]\n",
      " ['Female' 92.0 25.0 90.0 3]\n",
      " ['Male' 88.0 18.0 82.0 2]\n",
      " ['Female' 95.0 30.0 88.0 1]\n",
      " ['Male' 70.0 8.0 60.0 0]\n",
      " ['Female' 85.0 17.0 78.22222222222223 1]\n",
      " ['Male' 82.0 12.0 70.0 2]\n",
      " ['Female' 91.0 22.0 86.0 3]] x-sklearn-data\n"
     ]
    }
   ],
   "source": [
    "dataset = pd.read_csv('./student_performance.csv')\n",
    "x = dataset.iloc[:, :-2].values\n",
    "y = dataset.iloc[:, -2].values\n",
    "\n",
    "# print(x,\"x-data\")\n",
    "print(y,\"y-data\")\n",
    "\n",
    "imputer = SimpleImputer(missing_values=np.nan,strategy='mean')\n",
    "imputer.fit(x[:, 1:4])\n",
    "x[:, 1:4] = imputer.transform(x[:, 1:4])\n",
    "\n",
    "print(x,\"x-sklearn-data\")"
   ]
  },
  {
   "cell_type": "markdown",
   "metadata": {},
   "source": [
    "Encoding Categorical Data"
   ]
  },
  {
   "cell_type": "code",
   "execution_count": null,
   "metadata": {},
   "outputs": [],
   "source": []
  },
  {
   "cell_type": "markdown",
   "metadata": {},
   "source": [
    "Encoding the Independent Variable"
   ]
  },
  {
   "cell_type": "code",
   "execution_count": 32,
   "metadata": {},
   "outputs": [],
   "source": [
    "from sklearn.compose import ColumnTransformer\n",
    "from sklearn.preprocessing import OneHotEncoder\n",
    "\n",
    "ct = ColumnTransformer(transformers=[('encoder', OneHotEncoder(),[0])],remainder='passthrough')\n",
    "X = np.array(ct.fit_transform(x))\n"
   ]
  },
  {
   "cell_type": "code",
   "execution_count": 33,
   "metadata": {},
   "outputs": [
    {
     "name": "stdout",
     "output_type": "stream",
     "text": [
      "[[0.0 1.0 85.0 15.0 78.0 1]\n",
      " [1.0 0.0 90.0 20.0 85.0 2]\n",
      " [0.0 1.0 78.0 10.0 65.0 0]\n",
      " [1.0 0.0 92.0 25.0 90.0 3]\n",
      " [0.0 1.0 88.0 18.0 82.0 2]\n",
      " [1.0 0.0 95.0 30.0 88.0 1]\n",
      " [0.0 1.0 70.0 8.0 60.0 0]\n",
      " [1.0 0.0 85.0 17.0 78.22222222222223 1]\n",
      " [0.0 1.0 82.0 12.0 70.0 2]\n",
      " [1.0 0.0 91.0 22.0 86.0 3]]\n"
     ]
    }
   ],
   "source": [
    "print(X)"
   ]
  },
  {
   "cell_type": "markdown",
   "metadata": {},
   "source": [
    "Encoding the Dependent Variable"
   ]
  },
  {
   "cell_type": "code",
   "execution_count": 34,
   "metadata": {},
   "outputs": [
    {
     "data": {
      "text/plain": [
       "array([0, 2, 1, 0, 2, 0, 1, 2, 1, 0])"
      ]
     },
     "execution_count": 34,
     "metadata": {},
     "output_type": "execute_result"
    }
   ],
   "source": [
    "from sklearn.preprocessing import LabelEncoder\n",
    "le = LabelEncoder()\n",
    "le.fit_transform(y)"
   ]
  }
 ],
 "metadata": {
  "kernelspec": {
   "display_name": "Python 3",
   "language": "python",
   "name": "python3"
  },
  "language_info": {
   "codemirror_mode": {
    "name": "ipython",
    "version": 3
   },
   "file_extension": ".py",
   "mimetype": "text/x-python",
   "name": "python",
   "nbconvert_exporter": "python",
   "pygments_lexer": "ipython3",
   "version": "3.11.9"
  }
 },
 "nbformat": 4,
 "nbformat_minor": 2
}
