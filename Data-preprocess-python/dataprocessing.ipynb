{
 "cells": [
  {
   "cell_type": "code",
   "execution_count": 23,
   "metadata": {},
   "outputs": [],
   "source": [
    "import numpy as np \n",
    "import matplotlib.pyplot as plt\n",
    "import pandas as pd\n",
    "from sklearn.impute import SimpleImputer"
   ]
  },
  {
   "cell_type": "code",
   "execution_count": 31,
   "metadata": {},
   "outputs": [
    {
     "name": "stdout",
     "output_type": "stream",
     "text": [
      "[[85 15.0 78.0 1.0 'High']\n",
      " [90 20.0 85.0 2.0 'Medium']\n",
      " [78 10.0 65.0 0.0 'Low']\n",
      " [92 25.0 90.0 3.0 'High']\n",
      " [88 18.0 82.0 2.0 'Medium']\n",
      " [95 30.0 88.0 1.0 'High']\n",
      " [70 8.0 60.0 0.0 'Low']\n",
      " [85 17.0 78.22222222222223 1.0 'Medium']\n",
      " [82 12.0 70.0 2.0 'Low']\n",
      " [91 22.0 86.0 3.0 'High']] x-sklearn-data\n"
     ]
    }
   ],
   "source": [
    "dataset = pd.read_csv('./student_performance.csv')\n",
    "x = dataset.iloc[:, :-1].values\n",
    "y = dataset.iloc[:, -1].values\n",
    "\n",
    "# print(x,\"x-data\")\n",
    "# print(y,\"y-data\")\n",
    "\n",
    "imputer = SimpleImputer(missing_values=np.nan,strategy='mean')\n",
    "imputer.fit(x[:, 1:4])\n",
    "x[:, 1:4] = imputer.transform(x[:, 1:4])\n",
    "\n",
    "print(x,\"x-sklearn-data\")"
   ]
  }
 ],
 "metadata": {
  "kernelspec": {
   "display_name": "Python 3",
   "language": "python",
   "name": "python3"
  },
  "language_info": {
   "codemirror_mode": {
    "name": "ipython",
    "version": 3
   },
   "file_extension": ".py",
   "mimetype": "text/x-python",
   "name": "python",
   "nbconvert_exporter": "python",
   "pygments_lexer": "ipython3",
   "version": "3.11.9"
  }
 },
 "nbformat": 4,
 "nbformat_minor": 2
}
